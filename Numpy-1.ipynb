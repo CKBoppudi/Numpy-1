{
 "cells": [
  {
   "cell_type": "markdown",
   "id": "40a91de4",
   "metadata": {},
   "source": [
    "# Numpy - 1"
   ]
  },
  {
   "cell_type": "code",
   "execution_count": 131,
   "id": "5979de0b",
   "metadata": {},
   "outputs": [],
   "source": [
    "import numpy as np "
   ]
  },
  {
   "cell_type": "code",
   "execution_count": 132,
   "id": "220218de",
   "metadata": {},
   "outputs": [],
   "source": [
    "a = [1,2,3,4,5,6]"
   ]
  },
  {
   "cell_type": "code",
   "execution_count": 133,
   "id": "aefd49ab",
   "metadata": {},
   "outputs": [
    {
     "data": {
      "text/plain": [
       "[1, 4, 9, 16, 25, 36]"
      ]
     },
     "execution_count": 133,
     "metadata": {},
     "output_type": "execute_result"
    }
   ],
   "source": [
    "[i**2 for i in a]"
   ]
  },
  {
   "cell_type": "code",
   "execution_count": 134,
   "id": "6e8225aa",
   "metadata": {},
   "outputs": [],
   "source": [
    "# Calculating the square now using numpy "
   ]
  },
  {
   "cell_type": "code",
   "execution_count": 135,
   "id": "c545d693",
   "metadata": {},
   "outputs": [],
   "source": [
    "b = np.array([1,2,3,4,5,6]) # Numpy is used to do the element wise operations like this "
   ]
  },
  {
   "cell_type": "code",
   "execution_count": 136,
   "id": "1e4a0175",
   "metadata": {},
   "outputs": [
    {
     "data": {
      "text/plain": [
       "array([ 1,  4,  9, 16, 25, 36], dtype=int32)"
      ]
     },
     "execution_count": 136,
     "metadata": {},
     "output_type": "execute_result"
    }
   ],
   "source": [
    "b**2"
   ]
  },
  {
   "cell_type": "code",
   "execution_count": 137,
   "id": "983ab189",
   "metadata": {},
   "outputs": [],
   "source": [
    "l = range(10000000)"
   ]
  },
  {
   "cell_type": "code",
   "execution_count": 138,
   "id": "f6cfa04c",
   "metadata": {},
   "outputs": [
    {
     "name": "stdout",
     "output_type": "stream",
     "text": [
      "2.52 s ± 90 ms per loop (mean ± std. dev. of 7 runs, 1 loop each)\n"
     ]
    }
   ],
   "source": [
    "%timeit [i**2 for i in l]"
   ]
  },
  {
   "cell_type": "code",
   "execution_count": 139,
   "id": "3844ba9f",
   "metadata": {},
   "outputs": [],
   "source": [
    "np_l = np.arange(10000000)"
   ]
  },
  {
   "cell_type": "code",
   "execution_count": 140,
   "id": "5737ee34",
   "metadata": {},
   "outputs": [
    {
     "name": "stdout",
     "output_type": "stream",
     "text": [
      "12.5 ms ± 952 µs per loop (mean ± std. dev. of 7 runs, 100 loops each)\n"
     ]
    }
   ],
   "source": [
    "%timeit np_l**2"
   ]
  },
  {
   "cell_type": "markdown",
   "id": "5ec02dfe",
   "metadata": {},
   "source": [
    "# How to create a Numpy array "
   ]
  },
  {
   "cell_type": "code",
   "execution_count": 141,
   "id": "483bc5d3",
   "metadata": {},
   "outputs": [
    {
     "data": {
      "text/plain": [
       "array([1, 2, 3, 4])"
      ]
     },
     "execution_count": 141,
     "metadata": {},
     "output_type": "execute_result"
    }
   ],
   "source": [
    "arr1 = np.array([1,2,3,4])\n",
    "arr1"
   ]
  },
  {
   "cell_type": "markdown",
   "id": "2ef1c204",
   "metadata": {},
   "source": [
    "# What is the dimension of the arr1 "
   ]
  },
  {
   "cell_type": "code",
   "execution_count": 142,
   "id": "6e752dc2",
   "metadata": {},
   "outputs": [
    {
     "data": {
      "text/plain": [
       "1"
      ]
     },
     "execution_count": 142,
     "metadata": {},
     "output_type": "execute_result"
    }
   ],
   "source": [
    "arr1.ndim ## This gives the dimension of the array."
   ]
  },
  {
   "cell_type": "markdown",
   "id": "6fb5fb09",
   "metadata": {},
   "source": [
    "# what is the shape of the arr1"
   ]
  },
  {
   "cell_type": "code",
   "execution_count": 143,
   "id": "5ff057ec",
   "metadata": {},
   "outputs": [
    {
     "data": {
      "text/plain": [
       "(4,)"
      ]
     },
     "execution_count": 143,
     "metadata": {},
     "output_type": "execute_result"
    }
   ],
   "source": [
    "arr1.shape ## Gives the shape(rows and columns) of the array"
   ]
  },
  {
   "cell_type": "markdown",
   "id": "24b9036f",
   "metadata": {},
   "source": [
    "# Giving equal spaces in the line using linspace."
   ]
  },
  {
   "cell_type": "code",
   "execution_count": 144,
   "id": "e2232a0a",
   "metadata": {},
   "outputs": [
    {
     "data": {
      "text/plain": [
       "array([ 0.,  2.,  4.,  6.,  8., 10., 12., 14., 16., 18., 20.])"
      ]
     },
     "execution_count": 144,
     "metadata": {},
     "output_type": "execute_result"
    }
   ],
   "source": [
    "np.linspace(0,20,11)"
   ]
  },
  {
   "cell_type": "code",
   "execution_count": 145,
   "id": "1effdaf3",
   "metadata": {},
   "outputs": [
    {
     "data": {
      "text/plain": [
       "array([ 0.,  1.,  2.,  3.,  4.,  5.,  6.,  7.,  8.,  9., 10.])"
      ]
     },
     "execution_count": 145,
     "metadata": {},
     "output_type": "execute_result"
    }
   ],
   "source": [
    "np.linspace(0,10,11)"
   ]
  },
  {
   "cell_type": "markdown",
   "id": "ef0f234a",
   "metadata": {},
   "source": [
    "# Type of a numpy array"
   ]
  },
  {
   "cell_type": "code",
   "execution_count": 326,
   "id": "13ccd165",
   "metadata": {},
   "outputs": [
    {
     "data": {
      "text/plain": [
       "numpy.ndarray"
      ]
     },
     "execution_count": 326,
     "metadata": {},
     "output_type": "execute_result"
    }
   ],
   "source": [
    "type(arr1)"
   ]
  },
  {
   "cell_type": "markdown",
   "id": "db0867c2",
   "metadata": {},
   "source": [
    "# Numpy arrays can only store one type of data "
   ]
  },
  {
   "cell_type": "code",
   "execution_count": 147,
   "id": "355d59b1",
   "metadata": {},
   "outputs": [
    {
     "data": {
      "text/plain": [
       "array([1, 2, 3, 4, 5])"
      ]
     },
     "execution_count": 147,
     "metadata": {},
     "output_type": "execute_result"
    }
   ],
   "source": [
    "np.array([1,2,3,4,5]) # This works because only integer values are given in the array."
   ]
  },
  {
   "cell_type": "code",
   "execution_count": 148,
   "id": "1beb4c88",
   "metadata": {},
   "outputs": [
    {
     "data": {
      "text/plain": [
       "array([ 1.3,  2.6,  2.7,  3.5, 49. ,  4.7])"
      ]
     },
     "execution_count": 148,
     "metadata": {},
     "output_type": "execute_result"
    }
   ],
   "source": [
    "np.array([1.3,2.6,2.7,3.5,49,4.7]) # This works because only the floating point values are given in the array."
   ]
  },
  {
   "cell_type": "code",
   "execution_count": 149,
   "id": "498d0ef2",
   "metadata": {},
   "outputs": [
    {
     "data": {
      "text/plain": [
       "array([1. , 2. , 4. , 5.7, 9.3, 2. , 6.5])"
      ]
     },
     "execution_count": 149,
     "metadata": {},
     "output_type": "execute_result"
    }
   ],
   "source": [
    "np.array([1,2,4,5.7,9.3,2,6.5]) # This works by converting all the values of the array to floating values as numpy can only,\n",
    "                                # store a single type of data, and gives the output without lossing the data."
   ]
  },
  {
   "cell_type": "markdown",
   "id": "03f750f6",
   "metadata": {},
   "source": [
    "# Converting all the values of the array to integers"
   ]
  },
  {
   "cell_type": "code",
   "execution_count": 150,
   "id": "19dabac6",
   "metadata": {},
   "outputs": [
    {
     "data": {
      "text/plain": [
       "array([1, 2, 4, 5, 9, 2, 6])"
      ]
     },
     "execution_count": 150,
     "metadata": {},
     "output_type": "execute_result"
    }
   ],
   "source": [
    "np.array([1,2,4,5.7,9.3,2,6.5] , dtype = \"int\")"
   ]
  },
  {
   "cell_type": "markdown",
   "id": "f7234e9c",
   "metadata": {},
   "source": [
    "# Converting all the values to float"
   ]
  },
  {
   "cell_type": "code",
   "execution_count": 307,
   "id": "d31ee3da",
   "metadata": {},
   "outputs": [
    {
     "data": {
      "text/plain": [
       "array([1. , 2. , 4. , 5.7, 9.3, 2. , 6.5])"
      ]
     },
     "execution_count": 307,
     "metadata": {},
     "output_type": "execute_result"
    }
   ],
   "source": [
    "np.array([1,2,4,5.7,9.3,2,6.5] , dtype = \"float\") # In this case even if we do not specify the dtype to float,  \n",
    "                                                # numpy automatically conversts all the integeres to floating values."
   ]
  },
  {
   "cell_type": "markdown",
   "id": "1a8850fb",
   "metadata": {},
   "source": [
    "# 2D Arrays(Matrices)"
   ]
  },
  {
   "cell_type": "code",
   "execution_count": 152,
   "id": "587f8df4",
   "metadata": {},
   "outputs": [],
   "source": [
    "m1 = np.array([[1,2,3],[4,5,6]])"
   ]
  },
  {
   "cell_type": "code",
   "execution_count": 153,
   "id": "09385d42",
   "metadata": {},
   "outputs": [
    {
     "data": {
      "text/plain": [
       "array([[1, 2, 3],\n",
       "       [4, 5, 6]])"
      ]
     },
     "execution_count": 153,
     "metadata": {},
     "output_type": "execute_result"
    }
   ],
   "source": [
    "m1"
   ]
  },
  {
   "cell_type": "markdown",
   "id": "9f101fe0",
   "metadata": {},
   "source": [
    "# Shape of m1"
   ]
  },
  {
   "cell_type": "code",
   "execution_count": 154,
   "id": "cda4581f",
   "metadata": {},
   "outputs": [
    {
     "data": {
      "text/plain": [
       "(2, 3)"
      ]
     },
     "execution_count": 154,
     "metadata": {},
     "output_type": "execute_result"
    }
   ],
   "source": [
    "m1.shape"
   ]
  },
  {
   "cell_type": "markdown",
   "id": "d2d64969",
   "metadata": {},
   "source": [
    "# Dimesnion of m1"
   ]
  },
  {
   "cell_type": "code",
   "execution_count": 155,
   "id": "31b86863",
   "metadata": {},
   "outputs": [
    {
     "data": {
      "text/plain": [
       "2"
      ]
     },
     "execution_count": 155,
     "metadata": {},
     "output_type": "execute_result"
    }
   ],
   "source": [
    "m1.ndim"
   ]
  },
  {
   "cell_type": "code",
   "execution_count": 156,
   "id": "cf6507f1",
   "metadata": {},
   "outputs": [],
   "source": [
    "# What will be the answer for the following??"
   ]
  },
  {
   "cell_type": "code",
   "execution_count": 157,
   "id": "042bb22d",
   "metadata": {},
   "outputs": [
    {
     "data": {
      "text/plain": [
       "3"
      ]
     },
     "execution_count": 157,
     "metadata": {},
     "output_type": "execute_result"
    }
   ],
   "source": [
    "A = np.array([[2,3,4] , [1,4,5] , [8,9,5]])\n",
    "b = len(A)\n",
    "b"
   ]
  },
  {
   "cell_type": "markdown",
   "id": "481d15f1",
   "metadata": {},
   "source": [
    "# What will be the shape of A"
   ]
  },
  {
   "cell_type": "code",
   "execution_count": 158,
   "id": "f0a895b0",
   "metadata": {},
   "outputs": [
    {
     "data": {
      "text/plain": [
       "(3, 3)"
      ]
     },
     "execution_count": 158,
     "metadata": {},
     "output_type": "execute_result"
    }
   ],
   "source": [
    "A.shape"
   ]
  },
  {
   "cell_type": "markdown",
   "id": "babf87be",
   "metadata": {},
   "source": [
    "# What will be the dimension of A"
   ]
  },
  {
   "cell_type": "code",
   "execution_count": 159,
   "id": "be6c0bf8",
   "metadata": {},
   "outputs": [
    {
     "data": {
      "text/plain": [
       "2"
      ]
     },
     "execution_count": 159,
     "metadata": {},
     "output_type": "execute_result"
    }
   ],
   "source": [
    "A.ndim "
   ]
  },
  {
   "cell_type": "markdown",
   "id": "5ba2f91b",
   "metadata": {},
   "source": [
    "# Convert the 1-D array to (3X4) 2-D array"
   ]
  },
  {
   "cell_type": "code",
   "execution_count": 160,
   "id": "2c135ea1",
   "metadata": {},
   "outputs": [
    {
     "data": {
      "text/plain": [
       "array([ 1,  2,  3,  4,  5,  6,  7,  8,  9, 10, 11, 12])"
      ]
     },
     "execution_count": 160,
     "metadata": {},
     "output_type": "execute_result"
    }
   ],
   "source": [
    "m2 = np.arange(1,13)\n",
    "m2"
   ]
  },
  {
   "cell_type": "code",
   "execution_count": 161,
   "id": "7cf18103",
   "metadata": {},
   "outputs": [
    {
     "data": {
      "text/plain": [
       "array([[ 1,  2,  3,  4],\n",
       "       [ 5,  6,  7,  8],\n",
       "       [ 9, 10, 11, 12]])"
      ]
     },
     "execution_count": 161,
     "metadata": {},
     "output_type": "execute_result"
    }
   ],
   "source": [
    "m2.reshape(3,4)"
   ]
  },
  {
   "cell_type": "markdown",
   "id": "663f7738",
   "metadata": {},
   "source": [
    "# Convert m2 to a (4x3) 2-D array"
   ]
  },
  {
   "cell_type": "code",
   "execution_count": 162,
   "id": "74180ba6",
   "metadata": {},
   "outputs": [],
   "source": [
    "m3 = m2.reshape(4,3)"
   ]
  },
  {
   "cell_type": "code",
   "execution_count": 163,
   "id": "f762d725",
   "metadata": {},
   "outputs": [
    {
     "data": {
      "text/plain": [
       "array([[ 1,  2,  3],\n",
       "       [ 4,  5,  6],\n",
       "       [ 7,  8,  9],\n",
       "       [10, 11, 12]])"
      ]
     },
     "execution_count": 163,
     "metadata": {},
     "output_type": "execute_result"
    }
   ],
   "source": [
    "m3"
   ]
  },
  {
   "cell_type": "code",
   "execution_count": 164,
   "id": "b37338c3",
   "metadata": {},
   "outputs": [
    {
     "data": {
      "text/plain": [
       "(4, 3)"
      ]
     },
     "execution_count": 164,
     "metadata": {},
     "output_type": "execute_result"
    }
   ],
   "source": [
    "m3.shape"
   ]
  },
  {
   "cell_type": "code",
   "execution_count": 165,
   "id": "7a8117db",
   "metadata": {},
   "outputs": [
    {
     "data": {
      "text/plain": [
       "2"
      ]
     },
     "execution_count": 165,
     "metadata": {},
     "output_type": "execute_result"
    }
   ],
   "source": [
    "m3.ndim"
   ]
  },
  {
   "cell_type": "code",
   "execution_count": 166,
   "id": "d52e809e",
   "metadata": {},
   "outputs": [
    {
     "data": {
      "text/plain": [
       "array([[ 1,  2,  3,  4,  5,  6,  7,  8,  9, 10, 11, 12]])"
      ]
     },
     "execution_count": 166,
     "metadata": {},
     "output_type": "execute_result"
    }
   ],
   "source": [
    "m3.reshape(1,12)"
   ]
  },
  {
   "cell_type": "code",
   "execution_count": 167,
   "id": "2da85384",
   "metadata": {},
   "outputs": [
    {
     "data": {
      "text/plain": [
       "array([[ 1],\n",
       "       [ 2],\n",
       "       [ 3],\n",
       "       [ 4],\n",
       "       [ 5],\n",
       "       [ 6],\n",
       "       [ 7],\n",
       "       [ 8],\n",
       "       [ 9],\n",
       "       [10],\n",
       "       [11],\n",
       "       [12]])"
      ]
     },
     "execution_count": 167,
     "metadata": {},
     "output_type": "execute_result"
    }
   ],
   "source": [
    "m3.reshape(12,1)"
   ]
  },
  {
   "cell_type": "markdown",
   "id": "57ca8537",
   "metadata": {},
   "source": [
    "# Transpose of an array "
   ]
  },
  {
   "cell_type": "code",
   "execution_count": 168,
   "id": "0714342f",
   "metadata": {},
   "outputs": [
    {
     "data": {
      "text/plain": [
       "array([0, 1, 2])"
      ]
     },
     "execution_count": 168,
     "metadata": {},
     "output_type": "execute_result"
    }
   ],
   "source": [
    "a = np.arange(3)\n",
    "a"
   ]
  },
  {
   "cell_type": "code",
   "execution_count": 169,
   "id": "fc5f015c",
   "metadata": {},
   "outputs": [],
   "source": [
    "# To perform the transpose following should be done "
   ]
  },
  {
   "cell_type": "code",
   "execution_count": 170,
   "id": "ece66bf7",
   "metadata": {},
   "outputs": [
    {
     "data": {
      "text/plain": [
       "array([0, 1, 2])"
      ]
     },
     "execution_count": 170,
     "metadata": {},
     "output_type": "execute_result"
    }
   ],
   "source": [
    "a.T"
   ]
  },
  {
   "cell_type": "markdown",
   "id": "8eb3e976",
   "metadata": {},
   "source": [
    "# Note - Transpose works on the 2-D arrays, but not the 1-D arrays. "
   ]
  },
  {
   "cell_type": "code",
   "execution_count": 171,
   "id": "e8747b39",
   "metadata": {},
   "outputs": [
    {
     "data": {
      "text/plain": [
       "array([[1, 2, 3],\n",
       "       [3, 4, 5]])"
      ]
     },
     "execution_count": 171,
     "metadata": {},
     "output_type": "execute_result"
    }
   ],
   "source": [
    "A = np.array([[1,2,3] , [3,4,5]])\n",
    "A"
   ]
  },
  {
   "cell_type": "code",
   "execution_count": 172,
   "id": "e149c611",
   "metadata": {},
   "outputs": [],
   "source": [
    "# Applying transpose on the matrix"
   ]
  },
  {
   "cell_type": "code",
   "execution_count": 173,
   "id": "796b58da",
   "metadata": {},
   "outputs": [
    {
     "data": {
      "text/plain": [
       "array([[1, 3],\n",
       "       [2, 4],\n",
       "       [3, 5]])"
      ]
     },
     "execution_count": 173,
     "metadata": {},
     "output_type": "execute_result"
    }
   ],
   "source": [
    "A.T"
   ]
  },
  {
   "cell_type": "code",
   "execution_count": 174,
   "id": "282d1bde",
   "metadata": {},
   "outputs": [
    {
     "data": {
      "text/plain": [
       "array([ 0,  1,  2,  3,  4,  5,  6,  7,  8,  9, 10, 11])"
      ]
     },
     "execution_count": 174,
     "metadata": {},
     "output_type": "execute_result"
    }
   ],
   "source": [
    "L = np.arange(12)\n",
    "L"
   ]
  },
  {
   "cell_type": "code",
   "execution_count": 175,
   "id": "6cb0dd2b",
   "metadata": {},
   "outputs": [
    {
     "data": {
      "text/plain": [
       "array([[ 0,  1,  2],\n",
       "       [ 3,  4,  5],\n",
       "       [ 6,  7,  8],\n",
       "       [ 9, 10, 11]])"
      ]
     },
     "execution_count": 175,
     "metadata": {},
     "output_type": "execute_result"
    }
   ],
   "source": [
    "L.reshape(4,3)"
   ]
  },
  {
   "cell_type": "code",
   "execution_count": 176,
   "id": "c7714a4a",
   "metadata": {},
   "outputs": [
    {
     "data": {
      "text/plain": [
       "array([[ 0,  1],\n",
       "       [ 2,  3],\n",
       "       [ 4,  5],\n",
       "       [ 6,  7],\n",
       "       [ 8,  9],\n",
       "       [10, 11]])"
      ]
     },
     "execution_count": 176,
     "metadata": {},
     "output_type": "execute_result"
    }
   ],
   "source": [
    "L.reshape(6,-1) # \"-1\" actually takes the rows given and distributes all the column values equally with respect to the rows."
   ]
  },
  {
   "cell_type": "code",
   "execution_count": 177,
   "id": "f0c496a8",
   "metadata": {},
   "outputs": [
    {
     "data": {
      "text/plain": [
       "array([[ 0,  1,  2],\n",
       "       [ 3,  4,  5],\n",
       "       [ 6,  7,  8],\n",
       "       [ 9, 10, 11]])"
      ]
     },
     "execution_count": 177,
     "metadata": {},
     "output_type": "execute_result"
    }
   ],
   "source": [
    "L.reshape(4,-1) # \"-1\" actually takes the rows given and distributes all the column values equally with respect to the rows."
   ]
  },
  {
   "cell_type": "code",
   "execution_count": 178,
   "id": "c2240df0",
   "metadata": {},
   "outputs": [
    {
     "data": {
      "text/plain": [
       "array([[ 0,  1,  2,  3],\n",
       "       [ 4,  5,  6,  7],\n",
       "       [ 8,  9, 10, 11]])"
      ]
     },
     "execution_count": 178,
     "metadata": {},
     "output_type": "execute_result"
    }
   ],
   "source": [
    "L.reshape(3,-1) # \"-1\" actually takes the rows given and distributes all the column values equally with respect to the rows."
   ]
  },
  {
   "cell_type": "code",
   "execution_count": 179,
   "id": "ffd88d48",
   "metadata": {},
   "outputs": [
    {
     "data": {
      "text/plain": [
       "array([[ 0,  1],\n",
       "       [ 2,  3],\n",
       "       [ 4,  5],\n",
       "       [ 6,  7],\n",
       "       [ 8,  9],\n",
       "       [10, 11]])"
      ]
     },
     "execution_count": 179,
     "metadata": {},
     "output_type": "execute_result"
    }
   ],
   "source": [
    "L.reshape(6,-2) # \"-2\" actually takes the rows given and distributes all the column values equally with respect to the rows."
   ]
  },
  {
   "cell_type": "code",
   "execution_count": 180,
   "id": "b8e14276",
   "metadata": {},
   "outputs": [
    {
     "data": {
      "text/plain": [
       "array([[ 0,  1,  2,  3],\n",
       "       [ 4,  5,  6,  7],\n",
       "       [ 8,  9, 10, 11]])"
      ]
     },
     "execution_count": 180,
     "metadata": {},
     "output_type": "execute_result"
    }
   ],
   "source": [
    "L.reshape(-2,4)"
   ]
  },
  {
   "cell_type": "markdown",
   "id": "d34019bb",
   "metadata": {},
   "source": [
    "# Note - In the above, Any negative value given above in the reshape actually takes the rows given and distributes all the column values equally with respect to the rows. And also works same in the reverse too. "
   ]
  },
  {
   "cell_type": "markdown",
   "id": "1dcfe884",
   "metadata": {},
   "source": [
    "# Creating some special numpy arrays"
   ]
  },
  {
   "cell_type": "markdown",
   "id": "66f98e6a",
   "metadata": {},
   "source": [
    "# Creating a matrix of all zeros"
   ]
  },
  {
   "cell_type": "code",
   "execution_count": 181,
   "id": "66787fcb",
   "metadata": {},
   "outputs": [
    {
     "data": {
      "text/plain": [
       "array([0., 0., 0., 0.])"
      ]
     },
     "execution_count": 181,
     "metadata": {},
     "output_type": "execute_result"
    }
   ],
   "source": [
    "np.zeros(4) # Creating a 1-D array of all zeros"
   ]
  },
  {
   "cell_type": "code",
   "execution_count": 182,
   "id": "dfd620a7",
   "metadata": {},
   "outputs": [
    {
     "data": {
      "text/plain": [
       "array([[0., 0., 0., 0.],\n",
       "       [0., 0., 0., 0.],\n",
       "       [0., 0., 0., 0.],\n",
       "       [0., 0., 0., 0.]])"
      ]
     },
     "execution_count": 182,
     "metadata": {},
     "output_type": "execute_result"
    }
   ],
   "source": [
    "np.zeros([4,4]) # Creating a 2-D array of all zeros with shape(4x4)"
   ]
  },
  {
   "cell_type": "code",
   "execution_count": 183,
   "id": "5446a7d8",
   "metadata": {},
   "outputs": [
    {
     "data": {
      "text/plain": [
       "array([[0., 0., 0.],\n",
       "       [0., 0., 0.]])"
      ]
     },
     "execution_count": 183,
     "metadata": {},
     "output_type": "execute_result"
    }
   ],
   "source": [
    "np.zeros([2,3]) # Creating a 2-D array of all zeros with shape(2x3)"
   ]
  },
  {
   "cell_type": "markdown",
   "id": "67c9319d",
   "metadata": {},
   "source": [
    "# Creating a matrix of all ones."
   ]
  },
  {
   "cell_type": "code",
   "execution_count": 184,
   "id": "a13b190c",
   "metadata": {},
   "outputs": [
    {
     "data": {
      "text/plain": [
       "array([1., 1., 1., 1., 1.])"
      ]
     },
     "execution_count": 184,
     "metadata": {},
     "output_type": "execute_result"
    }
   ],
   "source": [
    "np.ones(5) # Creating a 1-D array of all ones"
   ]
  },
  {
   "cell_type": "code",
   "execution_count": 308,
   "id": "c774809b",
   "metadata": {},
   "outputs": [
    {
     "data": {
      "text/plain": [
       "array([[1, 1, 1, 1, 1],\n",
       "       [1, 1, 1, 1, 1],\n",
       "       [1, 1, 1, 1, 1],\n",
       "       [1, 1, 1, 1, 1],\n",
       "       [1, 1, 1, 1, 1]])"
      ]
     },
     "execution_count": 308,
     "metadata": {},
     "output_type": "execute_result"
    }
   ],
   "source": [
    "np.ones([5,5] , dtype = \"int\") # Creating  2-D array of all ones with shape(5x5)"
   ]
  },
  {
   "cell_type": "code",
   "execution_count": 186,
   "id": "f025368a",
   "metadata": {},
   "outputs": [
    {
     "data": {
      "text/plain": [
       "array([[1., 1., 1.],\n",
       "       [1., 1., 1.]])"
      ]
     },
     "execution_count": 186,
     "metadata": {},
     "output_type": "execute_result"
    }
   ],
   "source": [
    "np.ones([2,3]) # Creating a 2-D array of all ones with shape(2x3)"
   ]
  },
  {
   "cell_type": "markdown",
   "id": "304afb14",
   "metadata": {},
   "source": [
    "# Create a matrix filling up with certain number "
   ]
  },
  {
   "cell_type": "code",
   "execution_count": 187,
   "id": "d284f49b",
   "metadata": {},
   "outputs": [
    {
     "data": {
      "text/plain": [
       "array([[5, 5, 5],\n",
       "       [5, 5, 5]])"
      ]
     },
     "execution_count": 187,
     "metadata": {},
     "output_type": "execute_result"
    }
   ],
   "source": [
    "np.full([2,3] , 5) # Fills up the matrix of size (2x3) with all 5's."
   ]
  },
  {
   "cell_type": "code",
   "execution_count": 188,
   "id": "c2208d1c",
   "metadata": {},
   "outputs": [
    {
     "data": {
      "text/plain": [
       "array([[10, 10, 10, 10, 10, 10],\n",
       "       [10, 10, 10, 10, 10, 10],\n",
       "       [10, 10, 10, 10, 10, 10],\n",
       "       [10, 10, 10, 10, 10, 10],\n",
       "       [10, 10, 10, 10, 10, 10],\n",
       "       [10, 10, 10, 10, 10, 10]])"
      ]
     },
     "execution_count": 188,
     "metadata": {},
     "output_type": "execute_result"
    }
   ],
   "source": [
    "np.full([6,6] , 10)"
   ]
  },
  {
   "cell_type": "code",
   "execution_count": 189,
   "id": "76d2885c",
   "metadata": {},
   "outputs": [
    {
     "data": {
      "text/plain": [
       "array([[24, 24, 24, 24, 24, 24, 24, 24, 24, 24, 24, 24, 24, 24, 24, 24,\n",
       "        24, 24, 24, 24],\n",
       "       [24, 24, 24, 24, 24, 24, 24, 24, 24, 24, 24, 24, 24, 24, 24, 24,\n",
       "        24, 24, 24, 24],\n",
       "       [24, 24, 24, 24, 24, 24, 24, 24, 24, 24, 24, 24, 24, 24, 24, 24,\n",
       "        24, 24, 24, 24],\n",
       "       [24, 24, 24, 24, 24, 24, 24, 24, 24, 24, 24, 24, 24, 24, 24, 24,\n",
       "        24, 24, 24, 24],\n",
       "       [24, 24, 24, 24, 24, 24, 24, 24, 24, 24, 24, 24, 24, 24, 24, 24,\n",
       "        24, 24, 24, 24],\n",
       "       [24, 24, 24, 24, 24, 24, 24, 24, 24, 24, 24, 24, 24, 24, 24, 24,\n",
       "        24, 24, 24, 24],\n",
       "       [24, 24, 24, 24, 24, 24, 24, 24, 24, 24, 24, 24, 24, 24, 24, 24,\n",
       "        24, 24, 24, 24],\n",
       "       [24, 24, 24, 24, 24, 24, 24, 24, 24, 24, 24, 24, 24, 24, 24, 24,\n",
       "        24, 24, 24, 24],\n",
       "       [24, 24, 24, 24, 24, 24, 24, 24, 24, 24, 24, 24, 24, 24, 24, 24,\n",
       "        24, 24, 24, 24],\n",
       "       [24, 24, 24, 24, 24, 24, 24, 24, 24, 24, 24, 24, 24, 24, 24, 24,\n",
       "        24, 24, 24, 24],\n",
       "       [24, 24, 24, 24, 24, 24, 24, 24, 24, 24, 24, 24, 24, 24, 24, 24,\n",
       "        24, 24, 24, 24],\n",
       "       [24, 24, 24, 24, 24, 24, 24, 24, 24, 24, 24, 24, 24, 24, 24, 24,\n",
       "        24, 24, 24, 24],\n",
       "       [24, 24, 24, 24, 24, 24, 24, 24, 24, 24, 24, 24, 24, 24, 24, 24,\n",
       "        24, 24, 24, 24],\n",
       "       [24, 24, 24, 24, 24, 24, 24, 24, 24, 24, 24, 24, 24, 24, 24, 24,\n",
       "        24, 24, 24, 24],\n",
       "       [24, 24, 24, 24, 24, 24, 24, 24, 24, 24, 24, 24, 24, 24, 24, 24,\n",
       "        24, 24, 24, 24],\n",
       "       [24, 24, 24, 24, 24, 24, 24, 24, 24, 24, 24, 24, 24, 24, 24, 24,\n",
       "        24, 24, 24, 24],\n",
       "       [24, 24, 24, 24, 24, 24, 24, 24, 24, 24, 24, 24, 24, 24, 24, 24,\n",
       "        24, 24, 24, 24],\n",
       "       [24, 24, 24, 24, 24, 24, 24, 24, 24, 24, 24, 24, 24, 24, 24, 24,\n",
       "        24, 24, 24, 24],\n",
       "       [24, 24, 24, 24, 24, 24, 24, 24, 24, 24, 24, 24, 24, 24, 24, 24,\n",
       "        24, 24, 24, 24],\n",
       "       [24, 24, 24, 24, 24, 24, 24, 24, 24, 24, 24, 24, 24, 24, 24, 24,\n",
       "        24, 24, 24, 24]])"
      ]
     },
     "execution_count": 189,
     "metadata": {},
     "output_type": "execute_result"
    }
   ],
   "source": [
    "np.full([20,20] , 24) "
   ]
  },
  {
   "cell_type": "markdown",
   "id": "1339cc93",
   "metadata": {},
   "source": [
    "# Creating an Identity matrix"
   ]
  },
  {
   "cell_type": "code",
   "execution_count": 190,
   "id": "3597928c",
   "metadata": {},
   "outputs": [
    {
     "data": {
      "text/plain": [
       "array([[1., 0., 0., 0., 0., 0., 0., 0., 0., 0.],\n",
       "       [0., 1., 0., 0., 0., 0., 0., 0., 0., 0.],\n",
       "       [0., 0., 1., 0., 0., 0., 0., 0., 0., 0.],\n",
       "       [0., 0., 0., 1., 0., 0., 0., 0., 0., 0.],\n",
       "       [0., 0., 0., 0., 1., 0., 0., 0., 0., 0.],\n",
       "       [0., 0., 0., 0., 0., 1., 0., 0., 0., 0.],\n",
       "       [0., 0., 0., 0., 0., 0., 1., 0., 0., 0.],\n",
       "       [0., 0., 0., 0., 0., 0., 0., 1., 0., 0.],\n",
       "       [0., 0., 0., 0., 0., 0., 0., 0., 1., 0.],\n",
       "       [0., 0., 0., 0., 0., 0., 0., 0., 0., 1.]])"
      ]
     },
     "execution_count": 190,
     "metadata": {},
     "output_type": "execute_result"
    }
   ],
   "source": [
    "np.identity(10) # We do not need to give the shape because giving \"10\" automatically make it a (10x10) square matrix."
   ]
  },
  {
   "cell_type": "code",
   "execution_count": 312,
   "id": "9d5ca97d",
   "metadata": {},
   "outputs": [
    {
     "data": {
      "text/plain": [
       "array([[1., 0., 0., 0., 0.],\n",
       "       [0., 1., 0., 0., 0.],\n",
       "       [0., 0., 1., 0., 0.],\n",
       "       [0., 0., 0., 1., 0.],\n",
       "       [0., 0., 0., 0., 1.]])"
      ]
     },
     "execution_count": 312,
     "metadata": {},
     "output_type": "execute_result"
    }
   ],
   "source": [
    "np.identity(5) # Giving 5 to identity makes it gives us a (5x5) identity matrix."
   ]
  },
  {
   "cell_type": "code",
   "execution_count": 310,
   "id": "5e641c73",
   "metadata": {},
   "outputs": [
    {
     "data": {
      "text/plain": [
       "array([[1., 0., 0., 0.],\n",
       "       [0., 1., 0., 0.],\n",
       "       [0., 0., 1., 0.],\n",
       "       [0., 0., 0., 1.]])"
      ]
     },
     "execution_count": 310,
     "metadata": {},
     "output_type": "execute_result"
    }
   ],
   "source": [
    "np.identity(4) # Giving 4 to identity makes it gives us a (5x5) identity matrix."
   ]
  },
  {
   "cell_type": "code",
   "execution_count": 313,
   "id": "12ea1ecc",
   "metadata": {},
   "outputs": [
    {
     "data": {
      "text/plain": [
       "array([[1., 0.],\n",
       "       [0., 1.]])"
      ]
     },
     "execution_count": 313,
     "metadata": {},
     "output_type": "execute_result"
    }
   ],
   "source": [
    "np.identity(2) # Giving 2 to identity makes it gives us a (5x5) identity matrix."
   ]
  },
  {
   "cell_type": "markdown",
   "id": "1d48a9b2",
   "metadata": {},
   "source": [
    "# Creating a Diagnol matrix"
   ]
  },
  {
   "cell_type": "code",
   "execution_count": 191,
   "id": "b4e11342",
   "metadata": {},
   "outputs": [
    {
     "data": {
      "text/plain": [
       "array([[1, 0, 0, 0, 0],\n",
       "       [0, 2, 0, 0, 0],\n",
       "       [0, 0, 3, 0, 0],\n",
       "       [0, 0, 0, 4, 0],\n",
       "       [0, 0, 0, 0, 5]])"
      ]
     },
     "execution_count": 191,
     "metadata": {},
     "output_type": "execute_result"
    }
   ],
   "source": [
    "np.diag([1,2,3,4,5])"
   ]
  },
  {
   "cell_type": "code",
   "execution_count": 192,
   "id": "249ad415",
   "metadata": {},
   "outputs": [
    {
     "data": {
      "text/plain": [
       "array([[ 3,  0,  0,  0,  0,  0],\n",
       "       [ 0,  5,  0,  0,  0,  0],\n",
       "       [ 0,  0,  9,  0,  0,  0],\n",
       "       [ 0,  0,  0, 11,  0,  0],\n",
       "       [ 0,  0,  0,  0, 34,  0],\n",
       "       [ 0,  0,  0,  0,  0, 67]])"
      ]
     },
     "execution_count": 192,
     "metadata": {},
     "output_type": "execute_result"
    }
   ],
   "source": [
    "np.diag([3,5,9,11,34,67])"
   ]
  },
  {
   "cell_type": "code",
   "execution_count": 193,
   "id": "4808659d",
   "metadata": {},
   "outputs": [
    {
     "data": {
      "text/plain": [
       "array([[3, 0, 0, 0, 0, 0],\n",
       "       [0, 4, 0, 0, 0, 0],\n",
       "       [0, 0, 5, 0, 0, 0],\n",
       "       [0, 0, 0, 6, 0, 0],\n",
       "       [0, 0, 0, 0, 7, 0],\n",
       "       [0, 0, 0, 0, 0, 8]])"
      ]
     },
     "execution_count": 193,
     "metadata": {},
     "output_type": "execute_result"
    }
   ],
   "source": [
    "S = np.diag([3,4,5,6,7,8])\n",
    "S"
   ]
  },
  {
   "cell_type": "code",
   "execution_count": 194,
   "id": "b29c90e1",
   "metadata": {},
   "outputs": [
    {
     "data": {
      "text/plain": [
       "array([3, 4, 5, 6, 7, 8])"
      ]
     },
     "execution_count": 194,
     "metadata": {},
     "output_type": "execute_result"
    }
   ],
   "source": [
    "np.diag(S)"
   ]
  },
  {
   "cell_type": "markdown",
   "id": "39f41c6f",
   "metadata": {},
   "source": [
    "# Indexing and slicing "
   ]
  },
  {
   "cell_type": "code",
   "execution_count": 198,
   "id": "9ce25e15",
   "metadata": {},
   "outputs": [
    {
     "data": {
      "text/plain": [
       "array([ 0,  1,  2,  3,  4,  5,  6,  7,  8,  9, 10, 11])"
      ]
     },
     "execution_count": 198,
     "metadata": {},
     "output_type": "execute_result"
    }
   ],
   "source": [
    "l1 = np.arange(12)\n",
    "l1"
   ]
  },
  {
   "cell_type": "markdown",
   "id": "cf5463ea",
   "metadata": {},
   "source": [
    "# Accessing the value 2,7,5 from the above list with the index"
   ]
  },
  {
   "cell_type": "code",
   "execution_count": 199,
   "id": "bd2dfc8b",
   "metadata": {},
   "outputs": [
    {
     "data": {
      "text/plain": [
       "2"
      ]
     },
     "execution_count": 199,
     "metadata": {},
     "output_type": "execute_result"
    }
   ],
   "source": [
    "l1[2]"
   ]
  },
  {
   "cell_type": "code",
   "execution_count": 200,
   "id": "da08c59c",
   "metadata": {},
   "outputs": [
    {
     "data": {
      "text/plain": [
       "7"
      ]
     },
     "execution_count": 200,
     "metadata": {},
     "output_type": "execute_result"
    }
   ],
   "source": [
    "l[7]"
   ]
  },
  {
   "cell_type": "code",
   "execution_count": 201,
   "id": "230da700",
   "metadata": {},
   "outputs": [
    {
     "data": {
      "text/plain": [
       "5"
      ]
     },
     "execution_count": 201,
     "metadata": {},
     "output_type": "execute_result"
    }
   ],
   "source": [
    "l1[5]"
   ]
  },
  {
   "cell_type": "markdown",
   "id": "fe384229",
   "metadata": {},
   "source": [
    "# Accesing the index 12 which is out of range"
   ]
  },
  {
   "cell_type": "code",
   "execution_count": 315,
   "id": "066737ab",
   "metadata": {},
   "outputs": [
    {
     "ename": "IndexError",
     "evalue": "index 12 is out of bounds for axis 0 with size 12",
     "output_type": "error",
     "traceback": [
      "\u001b[1;31m---------------------------------------------------------------------------\u001b[0m",
      "\u001b[1;31mIndexError\u001b[0m                                Traceback (most recent call last)",
      "\u001b[1;32m~\\AppData\\Local\\Temp/ipykernel_12240/2517504119.py\u001b[0m in \u001b[0;36m<module>\u001b[1;34m\u001b[0m\n\u001b[1;32m----> 1\u001b[1;33m \u001b[0ml1\u001b[0m\u001b[1;33m[\u001b[0m\u001b[1;36m12\u001b[0m\u001b[1;33m]\u001b[0m \u001b[1;31m# As the given index is out of range for the above numpy array, error occurs.\u001b[0m\u001b[1;33m\u001b[0m\u001b[1;33m\u001b[0m\u001b[0m\n\u001b[0m",
      "\u001b[1;31mIndexError\u001b[0m: index 12 is out of bounds for axis 0 with size 12"
     ]
    }
   ],
   "source": [
    "l1[12] # As the given index is out of range for the above numpy array, error occurs."
   ]
  },
  {
   "cell_type": "markdown",
   "id": "825eb415",
   "metadata": {},
   "source": [
    "# Creating the 2D array of the above list "
   ]
  },
  {
   "cell_type": "code",
   "execution_count": 205,
   "id": "28222aa6",
   "metadata": {},
   "outputs": [
    {
     "data": {
      "text/plain": [
       "array([[ 0,  1,  2],\n",
       "       [ 3,  4,  5],\n",
       "       [ 6,  7,  8],\n",
       "       [ 9, 10, 11]])"
      ]
     },
     "execution_count": 205,
     "metadata": {},
     "output_type": "execute_result"
    }
   ],
   "source": [
    "l1.reshape(4,3)"
   ]
  },
  {
   "cell_type": "code",
   "execution_count": 318,
   "id": "39782e53",
   "metadata": {},
   "outputs": [
    {
     "data": {
      "text/plain": [
       "array([[1, 2, 3],\n",
       "       [4, 5, 6],\n",
       "       [7, 8, 9]])"
      ]
     },
     "execution_count": 318,
     "metadata": {},
     "output_type": "execute_result"
    }
   ],
   "source": [
    "c1 = np.arange(1,10).reshape(3,3)\n",
    "c1"
   ]
  },
  {
   "cell_type": "markdown",
   "id": "4579953b",
   "metadata": {},
   "source": [
    "# How to access the value 6 from the above 2D array"
   ]
  },
  {
   "cell_type": "markdown",
   "id": "b126bbb2",
   "metadata": {},
   "source": [
    "# Method-1"
   ]
  },
  {
   "cell_type": "code",
   "execution_count": 229,
   "id": "5dd27b31",
   "metadata": {},
   "outputs": [
    {
     "data": {
      "text/plain": [
       "6"
      ]
     },
     "execution_count": 229,
     "metadata": {},
     "output_type": "execute_result"
    }
   ],
   "source": [
    "c1[1][2]"
   ]
  },
  {
   "cell_type": "markdown",
   "id": "0a5ec6d0",
   "metadata": {},
   "source": [
    "# Method-2"
   ]
  },
  {
   "cell_type": "code",
   "execution_count": 237,
   "id": "b67bb0d5",
   "metadata": {},
   "outputs": [
    {
     "data": {
      "text/plain": [
       "6"
      ]
     },
     "execution_count": 237,
     "metadata": {},
     "output_type": "execute_result"
    }
   ],
   "source": [
    "c1[1,2] # Use this method always."
   ]
  },
  {
   "cell_type": "markdown",
   "id": "4d9e401f",
   "metadata": {},
   "source": [
    "# How to access the value 9 from the above 2D array"
   ]
  },
  {
   "cell_type": "markdown",
   "id": "1a4e56e9",
   "metadata": {},
   "source": [
    "# Method1"
   ]
  },
  {
   "cell_type": "code",
   "execution_count": 231,
   "id": "80d0ab0b",
   "metadata": {},
   "outputs": [
    {
     "data": {
      "text/plain": [
       "9"
      ]
     },
     "execution_count": 231,
     "metadata": {},
     "output_type": "execute_result"
    }
   ],
   "source": [
    "c1[2][2]"
   ]
  },
  {
   "cell_type": "code",
   "execution_count": 238,
   "id": "04e79298",
   "metadata": {},
   "outputs": [
    {
     "data": {
      "text/plain": [
       "9"
      ]
     },
     "execution_count": 238,
     "metadata": {},
     "output_type": "execute_result"
    }
   ],
   "source": [
    "c1[2,2] #Use this method always "
   ]
  },
  {
   "cell_type": "markdown",
   "id": "5935798e",
   "metadata": {},
   "source": [
    "# How to access the value 1 from the above 2D Array"
   ]
  },
  {
   "cell_type": "code",
   "execution_count": 233,
   "id": "45ad342d",
   "metadata": {},
   "outputs": [
    {
     "data": {
      "text/plain": [
       "1"
      ]
     },
     "execution_count": 233,
     "metadata": {},
     "output_type": "execute_result"
    }
   ],
   "source": [
    "c1[0][0]"
   ]
  },
  {
   "cell_type": "code",
   "execution_count": 239,
   "id": "e764329c",
   "metadata": {},
   "outputs": [
    {
     "data": {
      "text/plain": [
       "1"
      ]
     },
     "execution_count": 239,
     "metadata": {},
     "output_type": "execute_result"
    }
   ],
   "source": [
    "c1[0,0] # Use this method always"
   ]
  },
  {
   "cell_type": "markdown",
   "id": "aa3ef98b",
   "metadata": {},
   "source": [
    "# How to access the value 8 from the abobe 2D array"
   ]
  },
  {
   "cell_type": "code",
   "execution_count": 235,
   "id": "4558034e",
   "metadata": {},
   "outputs": [
    {
     "data": {
      "text/plain": [
       "8"
      ]
     },
     "execution_count": 235,
     "metadata": {},
     "output_type": "execute_result"
    }
   ],
   "source": [
    "c1[2][1]"
   ]
  },
  {
   "cell_type": "code",
   "execution_count": 240,
   "id": "0d58092a",
   "metadata": {},
   "outputs": [
    {
     "data": {
      "text/plain": [
       "8"
      ]
     },
     "execution_count": 240,
     "metadata": {},
     "output_type": "execute_result"
    }
   ],
   "source": [
    "c1[2,1] #Use this method always "
   ]
  },
  {
   "cell_type": "markdown",
   "id": "ced9a1df",
   "metadata": {},
   "source": [
    "# What will be the output of c1[1][1]"
   ]
  },
  {
   "cell_type": "code",
   "execution_count": 241,
   "id": "81b8add9",
   "metadata": {},
   "outputs": [
    {
     "data": {
      "text/plain": [
       "5"
      ]
     },
     "execution_count": 241,
     "metadata": {},
     "output_type": "execute_result"
    }
   ],
   "source": [
    "c1[1][1]"
   ]
  },
  {
   "cell_type": "code",
   "execution_count": 242,
   "id": "cb618080",
   "metadata": {},
   "outputs": [
    {
     "data": {
      "text/plain": [
       "5"
      ]
     },
     "execution_count": 242,
     "metadata": {},
     "output_type": "execute_result"
    }
   ],
   "source": [
    "c1[1,1]"
   ]
  },
  {
   "cell_type": "markdown",
   "id": "20b836d1",
   "metadata": {},
   "source": [
    "# Accessing the multiple values at a time using the indices"
   ]
  },
  {
   "cell_type": "code",
   "execution_count": 245,
   "id": "d8132fec",
   "metadata": {},
   "outputs": [],
   "source": [
    "c2 = np.array([100,200,300,400,500,600,700,800])"
   ]
  },
  {
   "cell_type": "code",
   "execution_count": 246,
   "id": "66a1fc9a",
   "metadata": {},
   "outputs": [
    {
     "data": {
      "text/plain": [
       "array([200, 100, 400, 300, 500, 600, 300, 800])"
      ]
     },
     "execution_count": 246,
     "metadata": {},
     "output_type": "execute_result"
    }
   ],
   "source": [
    "c2[[1,0,3,2,4,5,2,7]]"
   ]
  },
  {
   "cell_type": "markdown",
   "id": "0023290c",
   "metadata": {},
   "source": [
    "# Accessing multiple values of 2D array using the indices"
   ]
  },
  {
   "cell_type": "code",
   "execution_count": 247,
   "id": "75834bae",
   "metadata": {},
   "outputs": [
    {
     "data": {
      "text/plain": [
       "array([[0, 1, 2],\n",
       "       [3, 4, 5],\n",
       "       [6, 7, 8]])"
      ]
     },
     "execution_count": 247,
     "metadata": {},
     "output_type": "execute_result"
    }
   ],
   "source": [
    "c3 = np.arange(9).reshape(3,3)\n",
    "c3"
   ]
  },
  {
   "cell_type": "markdown",
   "id": "67be50ef",
   "metadata": {},
   "source": [
    "# Access the values 0,4,8 from the above 2D array"
   ]
  },
  {
   "cell_type": "code",
   "execution_count": 249,
   "id": "1d42ceed",
   "metadata": {},
   "outputs": [
    {
     "data": {
      "text/plain": [
       "array([0, 4, 8])"
      ]
     },
     "execution_count": 249,
     "metadata": {},
     "output_type": "execute_result"
    }
   ],
   "source": [
    "c3[[0,1,2] , [0,1,2]]"
   ]
  },
  {
   "cell_type": "markdown",
   "id": "5979938d",
   "metadata": {},
   "source": [
    "# Access the values 2,5,8 form the above 2D array "
   ]
  },
  {
   "cell_type": "code",
   "execution_count": 319,
   "id": "8aa8ee8d",
   "metadata": {},
   "outputs": [
    {
     "data": {
      "text/plain": [
       "array([2, 5, 8])"
      ]
     },
     "execution_count": 319,
     "metadata": {},
     "output_type": "execute_result"
    }
   ],
   "source": [
    "c3[[0,1,2] , 2]"
   ]
  },
  {
   "cell_type": "markdown",
   "id": "bab316e9",
   "metadata": {},
   "source": [
    "# Access the values 3,1,2,8,7 from the above 2D array"
   ]
  },
  {
   "cell_type": "code",
   "execution_count": 251,
   "id": "c9efc79a",
   "metadata": {},
   "outputs": [
    {
     "data": {
      "text/plain": [
       "array([3, 1, 2, 8, 7])"
      ]
     },
     "execution_count": 251,
     "metadata": {},
     "output_type": "execute_result"
    }
   ],
   "source": [
    "c3[[1,0,0,2,2] , [0,1,2,2,1]]"
   ]
  },
  {
   "cell_type": "markdown",
   "id": "5e8914d3",
   "metadata": {},
   "source": [
    "# Access the values 5,3,1,7 from the above 2D array "
   ]
  },
  {
   "cell_type": "code",
   "execution_count": 252,
   "id": "b11bd654",
   "metadata": {},
   "outputs": [
    {
     "data": {
      "text/plain": [
       "array([5, 3, 1, 7])"
      ]
     },
     "execution_count": 252,
     "metadata": {},
     "output_type": "execute_result"
    }
   ],
   "source": [
    "c3[[1,1,0,2] , [2,0,1,1]]"
   ]
  },
  {
   "cell_type": "markdown",
   "id": "0bcff167",
   "metadata": {},
   "source": [
    "#  ##** Slicing"
   ]
  },
  {
   "cell_type": "markdown",
   "id": "737a1092",
   "metadata": {},
   "source": [
    "#  Very Important Slicing technique - Fancy indexing "
   ]
  },
  {
   "cell_type": "code",
   "execution_count": 255,
   "id": "068f9cae",
   "metadata": {},
   "outputs": [
    {
     "data": {
      "text/plain": [
       "array([ 0,  1,  2,  3,  4,  5,  6,  7,  8,  9, 10, 11])"
      ]
     },
     "execution_count": 255,
     "metadata": {},
     "output_type": "execute_result"
    }
   ],
   "source": [
    "c4 = np.arange(12)\n",
    "c4"
   ]
  },
  {
   "cell_type": "markdown",
   "id": "e0c14e44",
   "metadata": {},
   "source": [
    "# Slice the first five elements from the above "
   ]
  },
  {
   "cell_type": "code",
   "execution_count": 258,
   "id": "713c3b47",
   "metadata": {},
   "outputs": [
    {
     "data": {
      "text/plain": [
       "array([0, 1, 2, 3, 4])"
      ]
     },
     "execution_count": 258,
     "metadata": {},
     "output_type": "execute_result"
    }
   ],
   "source": [
    "c4[0:5]"
   ]
  },
  {
   "cell_type": "code",
   "execution_count": 260,
   "id": "a368b8e7",
   "metadata": {},
   "outputs": [
    {
     "data": {
      "text/plain": [
       "array([0, 1, 2, 3, 4])"
      ]
     },
     "execution_count": 260,
     "metadata": {},
     "output_type": "execute_result"
    }
   ],
   "source": [
    "c4[:5] # same method. Do not need to mention the starting index if we are slicing form the very beggining of the array."
   ]
  },
  {
   "cell_type": "markdown",
   "id": "d2c9cc89",
   "metadata": {},
   "source": [
    "# Slice the values from the value 2 to the last value."
   ]
  },
  {
   "cell_type": "code",
   "execution_count": 263,
   "id": "392a220b",
   "metadata": {},
   "outputs": [
    {
     "data": {
      "text/plain": [
       "array([ 2,  3,  4,  5,  6,  7,  8,  9, 10, 11])"
      ]
     },
     "execution_count": 263,
     "metadata": {},
     "output_type": "execute_result"
    }
   ],
   "source": [
    "c4[2:12]"
   ]
  },
  {
   "cell_type": "code",
   "execution_count": 265,
   "id": "d14afc40",
   "metadata": {},
   "outputs": [
    {
     "data": {
      "text/plain": [
       "array([ 2,  3,  4,  5,  6,  7,  8,  9, 10, 11])"
      ]
     },
     "execution_count": 265,
     "metadata": {},
     "output_type": "execute_result"
    }
   ],
   "source": [
    "c4[2:] #Same method. Do not need to mention the last value index if we are slicing till the last "
   ]
  },
  {
   "cell_type": "markdown",
   "id": "c8bd7dfa",
   "metadata": {},
   "source": [
    "# Slice the values from 3 to 8 from the abobe array "
   ]
  },
  {
   "cell_type": "code",
   "execution_count": 268,
   "id": "cd2e8b38",
   "metadata": {},
   "outputs": [
    {
     "data": {
      "text/plain": [
       "array([3, 4, 5, 6, 7, 8])"
      ]
     },
     "execution_count": 268,
     "metadata": {},
     "output_type": "execute_result"
    }
   ],
   "source": [
    "c4[3:9]"
   ]
  },
  {
   "cell_type": "markdown",
   "id": "4d120d04",
   "metadata": {},
   "source": [
    "# Slicing of 2D arrays"
   ]
  },
  {
   "cell_type": "code",
   "execution_count": 270,
   "id": "04ef1ad6",
   "metadata": {},
   "outputs": [
    {
     "data": {
      "text/plain": [
       "array([[ 0,  1,  2,  3],\n",
       "       [ 4,  5,  6,  7],\n",
       "       [ 8,  9, 10, 11]])"
      ]
     },
     "execution_count": 270,
     "metadata": {},
     "output_type": "execute_result"
    }
   ],
   "source": [
    "c5 = np.arange(12).reshape(3,4)\n",
    "c5"
   ]
  },
  {
   "cell_type": "code",
   "execution_count": 321,
   "id": "2b2fc31b",
   "metadata": {},
   "outputs": [
    {
     "data": {
      "text/plain": [
       "array([[ 1,  2],\n",
       "       [ 5,  6],\n",
       "       [ 9, 10]])"
      ]
     },
     "execution_count": 321,
     "metadata": {},
     "output_type": "execute_result"
    }
   ],
   "source": [
    "c5[:,1:3]"
   ]
  },
  {
   "cell_type": "markdown",
   "id": "356503a6",
   "metadata": {},
   "source": [
    "# Access fthe elements 1,2,5,6,9,10 from the above 2D array"
   ]
  },
  {
   "cell_type": "code",
   "execution_count": 272,
   "id": "a8e5d96d",
   "metadata": {},
   "outputs": [
    {
     "data": {
      "text/plain": [
       "array([[ 1,  2],\n",
       "       [ 5,  6],\n",
       "       [ 9, 10]])"
      ]
     },
     "execution_count": 272,
     "metadata": {},
     "output_type": "execute_result"
    }
   ],
   "source": [
    "c5[0: , 1:3]"
   ]
  },
  {
   "cell_type": "markdown",
   "id": "5b0f6908",
   "metadata": {},
   "source": [
    "# Access the elements 0,5,6,11 from the above 2D array"
   ]
  },
  {
   "cell_type": "code",
   "execution_count": 275,
   "id": "1a481e8e",
   "metadata": {},
   "outputs": [
    {
     "data": {
      "text/plain": [
       "array([ 0,  5,  6, 11])"
      ]
     },
     "execution_count": 275,
     "metadata": {},
     "output_type": "execute_result"
    }
   ],
   "source": [
    "c5[[0,1,1,2] , [0,1,2,3]]"
   ]
  },
  {
   "cell_type": "markdown",
   "id": "5ccab800",
   "metadata": {},
   "source": [
    "# Access the elements 0,4,8 from the above 2D array"
   ]
  },
  {
   "cell_type": "code",
   "execution_count": 276,
   "id": "5ce59409",
   "metadata": {},
   "outputs": [
    {
     "data": {
      "text/plain": [
       "array([[0],\n",
       "       [4],\n",
       "       [8]])"
      ]
     },
     "execution_count": 276,
     "metadata": {},
     "output_type": "execute_result"
    }
   ],
   "source": [
    "c5[0: , :1]"
   ]
  },
  {
   "cell_type": "code",
   "execution_count": 277,
   "id": "5b47dbfd",
   "metadata": {},
   "outputs": [
    {
     "data": {
      "text/plain": [
       "array([1, 2])"
      ]
     },
     "execution_count": 277,
     "metadata": {},
     "output_type": "execute_result"
    }
   ],
   "source": [
    "c5[0,1:3]"
   ]
  },
  {
   "cell_type": "code",
   "execution_count": 278,
   "id": "2d632184",
   "metadata": {},
   "outputs": [
    {
     "data": {
      "text/plain": [
       "array([[ 1,  2],\n",
       "       [ 5,  6],\n",
       "       [ 9, 10]])"
      ]
     },
     "execution_count": 278,
     "metadata": {},
     "output_type": "execute_result"
    }
   ],
   "source": [
    "c5[0: , 1:3]"
   ]
  },
  {
   "cell_type": "code",
   "execution_count": 279,
   "id": "dddb873e",
   "metadata": {},
   "outputs": [
    {
     "data": {
      "text/plain": [
       "array([[ 5,  6],\n",
       "       [ 9, 10]])"
      ]
     },
     "execution_count": 279,
     "metadata": {},
     "output_type": "execute_result"
    }
   ],
   "source": [
    "c5[1: , 1:3]"
   ]
  },
  {
   "cell_type": "markdown",
   "id": "72655ccd",
   "metadata": {},
   "source": [
    "# Write slicing code to extract 2,3,6,7,10,11"
   ]
  },
  {
   "cell_type": "code",
   "execution_count": 283,
   "id": "95776bd8",
   "metadata": {},
   "outputs": [
    {
     "data": {
      "text/plain": [
       "array([[ 2,  3],\n",
       "       [ 6,  7],\n",
       "       [10, 11]])"
      ]
     },
     "execution_count": 283,
     "metadata": {},
     "output_type": "execute_result"
    }
   ],
   "source": [
    "c5[0: , 2:]"
   ]
  },
  {
   "cell_type": "code",
   "execution_count": 284,
   "id": "f2633225",
   "metadata": {},
   "outputs": [
    {
     "data": {
      "text/plain": [
       "array([[ 2,  3],\n",
       "       [ 6,  7],\n",
       "       [10, 11]])"
      ]
     },
     "execution_count": 284,
     "metadata": {},
     "output_type": "execute_result"
    }
   ],
   "source": [
    "c5[: , 2:] # Other way of slicing to get the required values "
   ]
  },
  {
   "cell_type": "markdown",
   "id": "8afe6092",
   "metadata": {},
   "source": [
    "# Write a Slicing code to extract the values 1,3,5,7,9,11"
   ]
  },
  {
   "cell_type": "code",
   "execution_count": 285,
   "id": "fcf039dd",
   "metadata": {},
   "outputs": [
    {
     "data": {
      "text/plain": [
       "array([[ 1,  3],\n",
       "       [ 5,  7],\n",
       "       [ 9, 11]])"
      ]
     },
     "execution_count": 285,
     "metadata": {},
     "output_type": "execute_result"
    }
   ],
   "source": [
    "c5[: , [1,3]]"
   ]
  },
  {
   "cell_type": "markdown",
   "id": "88f17c28",
   "metadata": {},
   "source": [
    "# What will be the output of the following code snippet "
   ]
  },
  {
   "cell_type": "code",
   "execution_count": 286,
   "id": "4d3bdfe8",
   "metadata": {},
   "outputs": [],
   "source": [
    "c6 = np.array([0,1,2,3,4,5,6,7])\n",
    "c6[4:] = 10"
   ]
  },
  {
   "cell_type": "code",
   "execution_count": 287,
   "id": "c635ad91",
   "metadata": {},
   "outputs": [
    {
     "data": {
      "text/plain": [
       "array([ 0,  1,  2,  3, 10, 10, 10, 10])"
      ]
     },
     "execution_count": 287,
     "metadata": {},
     "output_type": "execute_result"
    }
   ],
   "source": [
    "c6"
   ]
  },
  {
   "cell_type": "markdown",
   "id": "7a27b2d9",
   "metadata": {},
   "source": [
    "# What will be the output for following code snippet."
   ]
  },
  {
   "cell_type": "code",
   "execution_count": 288,
   "id": "4f18c297",
   "metadata": {},
   "outputs": [],
   "source": [
    "A = np.array([1,2,3,4,5])\n",
    "B = np.array([8,7,6])"
   ]
  },
  {
   "cell_type": "code",
   "execution_count": 289,
   "id": "0b279ac6",
   "metadata": {},
   "outputs": [],
   "source": [
    "A [2:] = B[::-1]"
   ]
  },
  {
   "cell_type": "code",
   "execution_count": 290,
   "id": "1e5cbf22",
   "metadata": {},
   "outputs": [
    {
     "data": {
      "text/plain": [
       "array([1, 2, 6, 7, 8])"
      ]
     },
     "execution_count": 290,
     "metadata": {},
     "output_type": "execute_result"
    }
   ],
   "source": [
    "A"
   ]
  },
  {
   "cell_type": "markdown",
   "id": "be0bb84e",
   "metadata": {},
   "source": [
    "# Fancy indexing "
   ]
  },
  {
   "cell_type": "code",
   "execution_count": 291,
   "id": "8c502d26",
   "metadata": {},
   "outputs": [
    {
     "data": {
      "text/plain": [
       "array([[ 0,  1,  2,  3],\n",
       "       [ 4,  5,  6,  7],\n",
       "       [ 8,  9, 10, 11]])"
      ]
     },
     "execution_count": 291,
     "metadata": {},
     "output_type": "execute_result"
    }
   ],
   "source": [
    "c7 = np.arange(12).reshape(3,4)\n",
    "c7"
   ]
  },
  {
   "cell_type": "code",
   "execution_count": 292,
   "id": "388b2f23",
   "metadata": {},
   "outputs": [
    {
     "data": {
      "text/plain": [
       "array([[ True,  True,  True,  True],\n",
       "       [ True,  True, False, False],\n",
       "       [False, False, False, False]])"
      ]
     },
     "execution_count": 292,
     "metadata": {},
     "output_type": "execute_result"
    }
   ],
   "source": [
    "c7<6"
   ]
  },
  {
   "cell_type": "code",
   "execution_count": 293,
   "id": "06b88cee",
   "metadata": {},
   "outputs": [
    {
     "data": {
      "text/plain": [
       "array([0, 1, 2, 3, 4, 5])"
      ]
     },
     "execution_count": 293,
     "metadata": {},
     "output_type": "execute_result"
    }
   ],
   "source": [
    "c7[c7<6]"
   ]
  },
  {
   "cell_type": "code",
   "execution_count": 322,
   "id": "60b8ea64",
   "metadata": {},
   "outputs": [
    {
     "data": {
      "text/plain": [
       "[array([[ True, False,  True, False],\n",
       "        [ True, False,  True, False],\n",
       "        [ True, False,  True, False]])]"
      ]
     },
     "execution_count": 322,
     "metadata": {},
     "output_type": "execute_result"
    }
   ],
   "source": [
    "[c7%2 == 0] "
   ]
  },
  {
   "cell_type": "code",
   "execution_count": 324,
   "id": "38573d6e",
   "metadata": {},
   "outputs": [
    {
     "data": {
      "text/plain": [
       "array([ 0,  2,  4,  6,  8, 10])"
      ]
     },
     "execution_count": 324,
     "metadata": {},
     "output_type": "execute_result"
    }
   ],
   "source": [
    "c7[c7%2 == 0]"
   ]
  },
  {
   "cell_type": "markdown",
   "id": "995a3cc9",
   "metadata": {},
   "source": [
    "# We can give two conditions too in fancy indexing  ??"
   ]
  },
  {
   "cell_type": "code",
   "execution_count": 299,
   "id": "28f438f8",
   "metadata": {},
   "outputs": [
    {
     "data": {
      "text/plain": [
       "array([ 0, 10])"
      ]
     },
     "execution_count": 299,
     "metadata": {},
     "output_type": "execute_result"
    }
   ],
   "source": [
    "c7[(c7%2==0) & (c7%5==0)]"
   ]
  },
  {
   "cell_type": "markdown",
   "id": "76804ce1",
   "metadata": {},
   "source": [
    "# What would be the output of following code snippet "
   ]
  },
  {
   "cell_type": "code",
   "execution_count": 306,
   "id": "de6dfeea",
   "metadata": {},
   "outputs": [
    {
     "name": "stdout",
     "output_type": "stream",
     "text": [
      "[ True False  True False  True False]\n"
     ]
    },
    {
     "data": {
      "text/plain": [
       "array([-1,  1, -1,  3, -1,  5])"
      ]
     },
     "execution_count": 306,
     "metadata": {},
     "output_type": "execute_result"
    }
   ],
   "source": [
    "A = np.array([0,1,2,3,4,5])\n",
    "mask = (A%2 == 0)\n",
    "print(mask)\n",
    "A[mask] = -1\n",
    "A"
   ]
  }
 ],
 "metadata": {
  "kernelspec": {
   "display_name": "Python 3 (ipykernel)",
   "language": "python",
   "name": "python3"
  },
  "language_info": {
   "codemirror_mode": {
    "name": "ipython",
    "version": 3
   },
   "file_extension": ".py",
   "mimetype": "text/x-python",
   "name": "python",
   "nbconvert_exporter": "python",
   "pygments_lexer": "ipython3",
   "version": "3.9.7"
  }
 },
 "nbformat": 4,
 "nbformat_minor": 5
}
